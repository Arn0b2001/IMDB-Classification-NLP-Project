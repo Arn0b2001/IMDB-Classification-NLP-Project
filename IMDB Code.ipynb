{
  "nbformat": 4,
  "nbformat_minor": 0,
  "metadata": {
    "colab": {
      "provenance": [],
      "gpuType": "T4"
    },
    "kernelspec": {
      "name": "python3",
      "display_name": "Python 3"
    },
    "language_info": {
      "name": "python"
    },
    "accelerator": "GPU"
  },
  "cells": [
    {
      "cell_type": "code",
      "execution_count": null,
      "metadata": {
        "id": "zY6ZpVrjouSz"
      },
      "outputs": [],
      "source": [
        "import numpy as np\n",
        "import pandas as pd\n",
        "from tensorflow.keras.preprocessing.text import Tokenizer\n",
        "from tensorflow.keras.preprocessing.sequence import pad_sequences\n",
        "from tensorflow.keras.models import Sequential\n",
        "from tensorflow.keras.layers import Embedding, LSTM, Dense, Bidirectional\n",
        "from sklearn.model_selection import train_test_split\n",
        "from keras.metrics import Precision, Recall\n",
        "from sklearn.metrics import confusion_matrix, f1_score\n",
        "import seaborn as sns\n",
        "\n",
        "\n"
      ]
    },
    {
      "cell_type": "code",
      "source": [
        "from google.colab import drive\n",
        "drive.mount('/content/drive')"
      ],
      "metadata": {
        "colab": {
          "base_uri": "https://localhost:8080/"
        },
        "id": "BLwpuFO9bide",
        "outputId": "02b91707-cd5e-40a3-9e64-48558d565956"
      },
      "execution_count": null,
      "outputs": [
        {
          "output_type": "stream",
          "name": "stdout",
          "text": [
            "Drive already mounted at /content/drive; to attempt to forcibly remount, call drive.mount(\"/content/drive\", force_remount=True).\n"
          ]
        }
      ]
    },
    {
      "cell_type": "code",
      "source": [],
      "metadata": {
        "id": "XJZokKQKngA7"
      },
      "execution_count": null,
      "outputs": []
    },
    {
      "cell_type": "markdown",
      "source": [
        "# Load the dataset\n"
      ],
      "metadata": {
        "id": "gw8iigYrvqis"
      }
    },
    {
      "cell_type": "code",
      "source": [
        "\n",
        "data = pd.read_csv('/content/drive/MyDrive/440/IMDB Dataset.csv')"
      ],
      "metadata": {
        "id": "6Jfuk_jUbH62"
      },
      "execution_count": null,
      "outputs": []
    },
    {
      "cell_type": "code",
      "source": [
        "data.head(8)"
      ],
      "metadata": {
        "colab": {
          "base_uri": "https://localhost:8080/",
          "height": 300
        },
        "id": "lb679NHiJ1bs",
        "outputId": "a2224a43-12d3-4c68-e91d-329271eeff3c"
      },
      "execution_count": null,
      "outputs": [
        {
          "output_type": "execute_result",
          "data": {
            "text/plain": [
              "                                              review sentiment\n",
              "0  One of the other reviewers has mentioned that ...  positive\n",
              "1  A wonderful little production. <br /><br />The...  positive\n",
              "2  I thought this was a wonderful way to spend ti...  positive\n",
              "3  Basically there's a family where a little boy ...  negative\n",
              "4  Petter Mattei's \"Love in the Time of Money\" is...  positive\n",
              "5  Probably my all-time favorite movie, a story o...  positive\n",
              "6  I sure would like to see a resurrection of a u...  positive\n",
              "7  This show was an amazing, fresh & innovative i...  negative"
            ],
            "text/html": [
              "\n",
              "  <div id=\"df-c6c08612-9d08-4256-9064-c3e96f1c68bf\" class=\"colab-df-container\">\n",
              "    <div>\n",
              "<style scoped>\n",
              "    .dataframe tbody tr th:only-of-type {\n",
              "        vertical-align: middle;\n",
              "    }\n",
              "\n",
              "    .dataframe tbody tr th {\n",
              "        vertical-align: top;\n",
              "    }\n",
              "\n",
              "    .dataframe thead th {\n",
              "        text-align: right;\n",
              "    }\n",
              "</style>\n",
              "<table border=\"1\" class=\"dataframe\">\n",
              "  <thead>\n",
              "    <tr style=\"text-align: right;\">\n",
              "      <th></th>\n",
              "      <th>review</th>\n",
              "      <th>sentiment</th>\n",
              "    </tr>\n",
              "  </thead>\n",
              "  <tbody>\n",
              "    <tr>\n",
              "      <th>0</th>\n",
              "      <td>One of the other reviewers has mentioned that ...</td>\n",
              "      <td>positive</td>\n",
              "    </tr>\n",
              "    <tr>\n",
              "      <th>1</th>\n",
              "      <td>A wonderful little production. &lt;br /&gt;&lt;br /&gt;The...</td>\n",
              "      <td>positive</td>\n",
              "    </tr>\n",
              "    <tr>\n",
              "      <th>2</th>\n",
              "      <td>I thought this was a wonderful way to spend ti...</td>\n",
              "      <td>positive</td>\n",
              "    </tr>\n",
              "    <tr>\n",
              "      <th>3</th>\n",
              "      <td>Basically there's a family where a little boy ...</td>\n",
              "      <td>negative</td>\n",
              "    </tr>\n",
              "    <tr>\n",
              "      <th>4</th>\n",
              "      <td>Petter Mattei's \"Love in the Time of Money\" is...</td>\n",
              "      <td>positive</td>\n",
              "    </tr>\n",
              "    <tr>\n",
              "      <th>5</th>\n",
              "      <td>Probably my all-time favorite movie, a story o...</td>\n",
              "      <td>positive</td>\n",
              "    </tr>\n",
              "    <tr>\n",
              "      <th>6</th>\n",
              "      <td>I sure would like to see a resurrection of a u...</td>\n",
              "      <td>positive</td>\n",
              "    </tr>\n",
              "    <tr>\n",
              "      <th>7</th>\n",
              "      <td>This show was an amazing, fresh &amp; innovative i...</td>\n",
              "      <td>negative</td>\n",
              "    </tr>\n",
              "  </tbody>\n",
              "</table>\n",
              "</div>\n",
              "    <div class=\"colab-df-buttons\">\n",
              "\n",
              "  <div class=\"colab-df-container\">\n",
              "    <button class=\"colab-df-convert\" onclick=\"convertToInteractive('df-c6c08612-9d08-4256-9064-c3e96f1c68bf')\"\n",
              "            title=\"Convert this dataframe to an interactive table.\"\n",
              "            style=\"display:none;\">\n",
              "\n",
              "  <svg xmlns=\"http://www.w3.org/2000/svg\" height=\"24px\" viewBox=\"0 -960 960 960\">\n",
              "    <path d=\"M120-120v-720h720v720H120Zm60-500h600v-160H180v160Zm220 220h160v-160H400v160Zm0 220h160v-160H400v160ZM180-400h160v-160H180v160Zm440 0h160v-160H620v160ZM180-180h160v-160H180v160Zm440 0h160v-160H620v160Z\"/>\n",
              "  </svg>\n",
              "    </button>\n",
              "\n",
              "  <style>\n",
              "    .colab-df-container {\n",
              "      display:flex;\n",
              "      gap: 12px;\n",
              "    }\n",
              "\n",
              "    .colab-df-convert {\n",
              "      background-color: #E8F0FE;\n",
              "      border: none;\n",
              "      border-radius: 50%;\n",
              "      cursor: pointer;\n",
              "      display: none;\n",
              "      fill: #1967D2;\n",
              "      height: 32px;\n",
              "      padding: 0 0 0 0;\n",
              "      width: 32px;\n",
              "    }\n",
              "\n",
              "    .colab-df-convert:hover {\n",
              "      background-color: #E2EBFA;\n",
              "      box-shadow: 0px 1px 2px rgba(60, 64, 67, 0.3), 0px 1px 3px 1px rgba(60, 64, 67, 0.15);\n",
              "      fill: #174EA6;\n",
              "    }\n",
              "\n",
              "    .colab-df-buttons div {\n",
              "      margin-bottom: 4px;\n",
              "    }\n",
              "\n",
              "    [theme=dark] .colab-df-convert {\n",
              "      background-color: #3B4455;\n",
              "      fill: #D2E3FC;\n",
              "    }\n",
              "\n",
              "    [theme=dark] .colab-df-convert:hover {\n",
              "      background-color: #434B5C;\n",
              "      box-shadow: 0px 1px 3px 1px rgba(0, 0, 0, 0.15);\n",
              "      filter: drop-shadow(0px 1px 2px rgba(0, 0, 0, 0.3));\n",
              "      fill: #FFFFFF;\n",
              "    }\n",
              "  </style>\n",
              "\n",
              "    <script>\n",
              "      const buttonEl =\n",
              "        document.querySelector('#df-c6c08612-9d08-4256-9064-c3e96f1c68bf button.colab-df-convert');\n",
              "      buttonEl.style.display =\n",
              "        google.colab.kernel.accessAllowed ? 'block' : 'none';\n",
              "\n",
              "      async function convertToInteractive(key) {\n",
              "        const element = document.querySelector('#df-c6c08612-9d08-4256-9064-c3e96f1c68bf');\n",
              "        const dataTable =\n",
              "          await google.colab.kernel.invokeFunction('convertToInteractive',\n",
              "                                                    [key], {});\n",
              "        if (!dataTable) return;\n",
              "\n",
              "        const docLinkHtml = 'Like what you see? Visit the ' +\n",
              "          '<a target=\"_blank\" href=https://colab.research.google.com/notebooks/data_table.ipynb>data table notebook</a>'\n",
              "          + ' to learn more about interactive tables.';\n",
              "        element.innerHTML = '';\n",
              "        dataTable['output_type'] = 'display_data';\n",
              "        await google.colab.output.renderOutput(dataTable, element);\n",
              "        const docLink = document.createElement('div');\n",
              "        docLink.innerHTML = docLinkHtml;\n",
              "        element.appendChild(docLink);\n",
              "      }\n",
              "    </script>\n",
              "  </div>\n",
              "\n",
              "\n",
              "<div id=\"df-1be3c57a-9f4e-42f8-94d5-4f4e3f2a2c54\">\n",
              "  <button class=\"colab-df-quickchart\" onclick=\"quickchart('df-1be3c57a-9f4e-42f8-94d5-4f4e3f2a2c54')\"\n",
              "            title=\"Suggest charts\"\n",
              "            style=\"display:none;\">\n",
              "\n",
              "<svg xmlns=\"http://www.w3.org/2000/svg\" height=\"24px\"viewBox=\"0 0 24 24\"\n",
              "     width=\"24px\">\n",
              "    <g>\n",
              "        <path d=\"M19 3H5c-1.1 0-2 .9-2 2v14c0 1.1.9 2 2 2h14c1.1 0 2-.9 2-2V5c0-1.1-.9-2-2-2zM9 17H7v-7h2v7zm4 0h-2V7h2v10zm4 0h-2v-4h2v4z\"/>\n",
              "    </g>\n",
              "</svg>\n",
              "  </button>\n",
              "\n",
              "<style>\n",
              "  .colab-df-quickchart {\n",
              "      --bg-color: #E8F0FE;\n",
              "      --fill-color: #1967D2;\n",
              "      --hover-bg-color: #E2EBFA;\n",
              "      --hover-fill-color: #174EA6;\n",
              "      --disabled-fill-color: #AAA;\n",
              "      --disabled-bg-color: #DDD;\n",
              "  }\n",
              "\n",
              "  [theme=dark] .colab-df-quickchart {\n",
              "      --bg-color: #3B4455;\n",
              "      --fill-color: #D2E3FC;\n",
              "      --hover-bg-color: #434B5C;\n",
              "      --hover-fill-color: #FFFFFF;\n",
              "      --disabled-bg-color: #3B4455;\n",
              "      --disabled-fill-color: #666;\n",
              "  }\n",
              "\n",
              "  .colab-df-quickchart {\n",
              "    background-color: var(--bg-color);\n",
              "    border: none;\n",
              "    border-radius: 50%;\n",
              "    cursor: pointer;\n",
              "    display: none;\n",
              "    fill: var(--fill-color);\n",
              "    height: 32px;\n",
              "    padding: 0;\n",
              "    width: 32px;\n",
              "  }\n",
              "\n",
              "  .colab-df-quickchart:hover {\n",
              "    background-color: var(--hover-bg-color);\n",
              "    box-shadow: 0 1px 2px rgba(60, 64, 67, 0.3), 0 1px 3px 1px rgba(60, 64, 67, 0.15);\n",
              "    fill: var(--button-hover-fill-color);\n",
              "  }\n",
              "\n",
              "  .colab-df-quickchart-complete:disabled,\n",
              "  .colab-df-quickchart-complete:disabled:hover {\n",
              "    background-color: var(--disabled-bg-color);\n",
              "    fill: var(--disabled-fill-color);\n",
              "    box-shadow: none;\n",
              "  }\n",
              "\n",
              "  .colab-df-spinner {\n",
              "    border: 2px solid var(--fill-color);\n",
              "    border-color: transparent;\n",
              "    border-bottom-color: var(--fill-color);\n",
              "    animation:\n",
              "      spin 1s steps(1) infinite;\n",
              "  }\n",
              "\n",
              "  @keyframes spin {\n",
              "    0% {\n",
              "      border-color: transparent;\n",
              "      border-bottom-color: var(--fill-color);\n",
              "      border-left-color: var(--fill-color);\n",
              "    }\n",
              "    20% {\n",
              "      border-color: transparent;\n",
              "      border-left-color: var(--fill-color);\n",
              "      border-top-color: var(--fill-color);\n",
              "    }\n",
              "    30% {\n",
              "      border-color: transparent;\n",
              "      border-left-color: var(--fill-color);\n",
              "      border-top-color: var(--fill-color);\n",
              "      border-right-color: var(--fill-color);\n",
              "    }\n",
              "    40% {\n",
              "      border-color: transparent;\n",
              "      border-right-color: var(--fill-color);\n",
              "      border-top-color: var(--fill-color);\n",
              "    }\n",
              "    60% {\n",
              "      border-color: transparent;\n",
              "      border-right-color: var(--fill-color);\n",
              "    }\n",
              "    80% {\n",
              "      border-color: transparent;\n",
              "      border-right-color: var(--fill-color);\n",
              "      border-bottom-color: var(--fill-color);\n",
              "    }\n",
              "    90% {\n",
              "      border-color: transparent;\n",
              "      border-bottom-color: var(--fill-color);\n",
              "    }\n",
              "  }\n",
              "</style>\n",
              "\n",
              "  <script>\n",
              "    async function quickchart(key) {\n",
              "      const quickchartButtonEl =\n",
              "        document.querySelector('#' + key + ' button');\n",
              "      quickchartButtonEl.disabled = true;  // To prevent multiple clicks.\n",
              "      quickchartButtonEl.classList.add('colab-df-spinner');\n",
              "      try {\n",
              "        const charts = await google.colab.kernel.invokeFunction(\n",
              "            'suggestCharts', [key], {});\n",
              "      } catch (error) {\n",
              "        console.error('Error during call to suggestCharts:', error);\n",
              "      }\n",
              "      quickchartButtonEl.classList.remove('colab-df-spinner');\n",
              "      quickchartButtonEl.classList.add('colab-df-quickchart-complete');\n",
              "    }\n",
              "    (() => {\n",
              "      let quickchartButtonEl =\n",
              "        document.querySelector('#df-1be3c57a-9f4e-42f8-94d5-4f4e3f2a2c54 button');\n",
              "      quickchartButtonEl.style.display =\n",
              "        google.colab.kernel.accessAllowed ? 'block' : 'none';\n",
              "    })();\n",
              "  </script>\n",
              "</div>\n",
              "\n",
              "    </div>\n",
              "  </div>\n"
            ]
          },
          "metadata": {},
          "execution_count": 63
        }
      ]
    },
    {
      "cell_type": "markdown",
      "source": [
        "# We are assuming 'review' is the column with text and 'sentiment' is the target and doing encoding"
      ],
      "metadata": {
        "id": "kYf2Ti2vv39k"
      }
    },
    {
      "cell_type": "code",
      "source": [
        "# 'review' is the column with text and 'sentiment' is the target\n",
        "reviews = data['review']\n",
        "labels = data['sentiment'].apply(lambda x: 1 if x == 'positive' else 0)\n"
      ],
      "metadata": {
        "id": "2ZoLOyLVbJWW"
      },
      "execution_count": null,
      "outputs": []
    },
    {
      "cell_type": "markdown",
      "source": [
        "#  Load GloVe embeddings"
      ],
      "metadata": {
        "id": "akrwQEq1wblE"
      }
    },
    {
      "cell_type": "code",
      "source": [
        "\n",
        "def load_glove_embedd(path):\n",
        "    embeddings_index = {}\n",
        "    with open(path) as f:\n",
        "        for line in f:\n",
        "            values = line.split()\n",
        "            word = values[0]\n",
        "            coefs = np.asarray(values[1:], dtype='float32')\n",
        "            embeddings_index[word] = coefs\n",
        "    return embeddings_index"
      ],
      "metadata": {
        "id": "3Mr9yLRtbSxn"
      },
      "execution_count": null,
      "outputs": []
    },
    {
      "cell_type": "code",
      "source": [
        "gl_p = '/content/drive/MyDrive/440/glove.6B.100d.txt'\n",
        "glove_embeddings = load_glove_embedd(gl_p)"
      ],
      "metadata": {
        "id": "aWR9GXeTbaLh"
      },
      "execution_count": null,
      "outputs": []
    },
    {
      "cell_type": "markdown",
      "source": [
        "# Here is task of Tokenize and pad sequences"
      ],
      "metadata": {
        "id": "XP46SI2Cwfyo"
      }
    },
    {
      "cell_type": "code",
      "source": [
        "tokenizer = Tokenizer()\n",
        "tokenizer.fit_on_texts(reviews)\n",
        "sequences = tokenizer.texts_to_sequences(reviews)\n",
        "word_index = tokenizer.word_index\n",
        "padded = pad_sequences(sequences, maxlen=256)"
      ],
      "metadata": {
        "id": "jRchjq95bgUI",
        "colab": {
          "base_uri": "https://localhost:8080/",
          "height": 418
        },
        "outputId": "8381aa5f-7fe7-4c2c-cd1d-59ebf5d0e608"
      },
      "execution_count": null,
      "outputs": [
        {
          "output_type": "stream",
          "name": "stderr",
          "text": [
            "Exception ignored in: <function AtomicFunction.__del__ at 0x7f31c2aff7f0>\n",
            "Traceback (most recent call last):\n",
            "  File \"/usr/local/lib/python3.10/dist-packages/tensorflow/python/eager/polymorphic_function/atomic_function.py\", line 286, in __del__\n",
            "    def __del__(self):\n",
            "KeyboardInterrupt: \n"
          ]
        },
        {
          "output_type": "error",
          "ename": "KeyboardInterrupt",
          "evalue": "ignored",
          "traceback": [
            "\u001b[0;31m---------------------------------------------------------------------------\u001b[0m",
            "\u001b[0;31mKeyboardInterrupt\u001b[0m                         Traceback (most recent call last)",
            "\u001b[0;32m<ipython-input-67-7446b316e4d6>\u001b[0m in \u001b[0;36m<cell line: 5>\u001b[0;34m()\u001b[0m\n\u001b[1;32m      3\u001b[0m \u001b[0msequences\u001b[0m \u001b[0;34m=\u001b[0m \u001b[0mtokenizer\u001b[0m\u001b[0;34m.\u001b[0m\u001b[0mtexts_to_sequences\u001b[0m\u001b[0;34m(\u001b[0m\u001b[0mreviews\u001b[0m\u001b[0;34m)\u001b[0m\u001b[0;34m\u001b[0m\u001b[0;34m\u001b[0m\u001b[0m\n\u001b[1;32m      4\u001b[0m \u001b[0mword_index\u001b[0m \u001b[0;34m=\u001b[0m \u001b[0mtokenizer\u001b[0m\u001b[0;34m.\u001b[0m\u001b[0mword_index\u001b[0m\u001b[0;34m\u001b[0m\u001b[0;34m\u001b[0m\u001b[0m\n\u001b[0;32m----> 5\u001b[0;31m \u001b[0mpadded\u001b[0m \u001b[0;34m=\u001b[0m \u001b[0mpad_sequences\u001b[0m\u001b[0;34m(\u001b[0m\u001b[0msequences\u001b[0m\u001b[0;34m,\u001b[0m \u001b[0mmaxlen\u001b[0m\u001b[0;34m=\u001b[0m\u001b[0;36m256\u001b[0m\u001b[0;34m)\u001b[0m\u001b[0;34m\u001b[0m\u001b[0;34m\u001b[0m\u001b[0m\n\u001b[0m",
            "\u001b[0;32m/usr/local/lib/python3.10/dist-packages/keras/src/utils/data_utils.py\u001b[0m in \u001b[0;36mpad_sequences\u001b[0;34m(sequences, maxlen, dtype, padding, truncating, value)\u001b[0m\n\u001b[1;32m   1095\u001b[0m     \u001b[0;32mfor\u001b[0m \u001b[0mx\u001b[0m \u001b[0;32min\u001b[0m \u001b[0msequences\u001b[0m\u001b[0;34m:\u001b[0m\u001b[0;34m\u001b[0m\u001b[0;34m\u001b[0m\u001b[0m\n\u001b[1;32m   1096\u001b[0m         \u001b[0;32mtry\u001b[0m\u001b[0;34m:\u001b[0m\u001b[0;34m\u001b[0m\u001b[0;34m\u001b[0m\u001b[0m\n\u001b[0;32m-> 1097\u001b[0;31m             \u001b[0mlengths\u001b[0m\u001b[0;34m.\u001b[0m\u001b[0mappend\u001b[0m\u001b[0;34m(\u001b[0m\u001b[0mlen\u001b[0m\u001b[0;34m(\u001b[0m\u001b[0mx\u001b[0m\u001b[0;34m)\u001b[0m\u001b[0;34m)\u001b[0m\u001b[0;34m\u001b[0m\u001b[0;34m\u001b[0m\u001b[0m\n\u001b[0m\u001b[1;32m   1098\u001b[0m             \u001b[0;32mif\u001b[0m \u001b[0mflag\u001b[0m \u001b[0;32mand\u001b[0m \u001b[0mlen\u001b[0m\u001b[0;34m(\u001b[0m\u001b[0mx\u001b[0m\u001b[0;34m)\u001b[0m\u001b[0;34m:\u001b[0m\u001b[0;34m\u001b[0m\u001b[0;34m\u001b[0m\u001b[0m\n\u001b[1;32m   1099\u001b[0m                 \u001b[0msample_shape\u001b[0m \u001b[0;34m=\u001b[0m \u001b[0mnp\u001b[0m\u001b[0;34m.\u001b[0m\u001b[0masarray\u001b[0m\u001b[0;34m(\u001b[0m\u001b[0mx\u001b[0m\u001b[0;34m)\u001b[0m\u001b[0;34m.\u001b[0m\u001b[0mshape\u001b[0m\u001b[0;34m[\u001b[0m\u001b[0;36m1\u001b[0m\u001b[0;34m:\u001b[0m\u001b[0;34m]\u001b[0m\u001b[0;34m\u001b[0m\u001b[0;34m\u001b[0m\u001b[0m\n",
            "\u001b[0;31mKeyboardInterrupt\u001b[0m: "
          ]
        }
      ]
    },
    {
      "cell_type": "markdown",
      "source": [
        "# Here we Prepare GloVe embedding matrix"
      ],
      "metadata": {
        "id": "TC_bAESgwyKP"
      }
    },
    {
      "cell_type": "code",
      "source": [
        "embedding_matrix = np.zeros((len(word_index) + 1, 100))\n",
        "for word, i in word_index.items():\n",
        "    embedding_vector = glove_embeddings.get(word)\n",
        "    if embedding_vector is not None:\n",
        "        embedding_matrix[i] = embedding_vector"
      ],
      "metadata": {
        "id": "dHWPNwVTbmHt"
      },
      "execution_count": null,
      "outputs": []
    },
    {
      "cell_type": "markdown",
      "source": [
        "# New Section Here we split training and test"
      ],
      "metadata": {
        "id": "EwkErx-Zw9Et"
      }
    },
    {
      "cell_type": "code",
      "source": [
        "\n",
        "X_train, X_test, y_train, y_test = train_test_split(padded, labels, test_size=0.2, random_state=42,stratify=labels)\n"
      ],
      "metadata": {
        "id": "4nc0ljd3br_R"
      },
      "execution_count": null,
      "outputs": []
    },
    {
      "cell_type": "code",
      "source": [
        "X_train.shape,y_train.shape,X_test.shape,y_test.shape"
      ],
      "metadata": {
        "id": "CAithFlKia0u"
      },
      "execution_count": null,
      "outputs": []
    },
    {
      "cell_type": "code",
      "source": [
        "import matplotlib.pyplot as plt\n",
        "\n",
        "def plot_history(history):\n",
        "    # Plot training & validation accuracy values\n",
        "    plt.figure(figsize=(12, 4))\n",
        "\n",
        "    plt.subplot(1, 2, 1)\n",
        "    plt.plot(history.history['accuracy'])\n",
        "    plt.plot(history.history['val_accuracy'])\n",
        "    plt.title('Model Accuracy')\n",
        "    plt.ylabel('Accuracy')\n",
        "    plt.xlabel('Epoch')\n",
        "    plt.legend(['Train', 'Test'], loc='upper left')\n",
        "\n",
        "    # Plot training & validation loss values\n",
        "    plt.subplot(1, 2, 2)\n",
        "    plt.plot(history.history['loss'])\n",
        "    plt.plot(history.history['val_loss'])\n",
        "    plt.title('Model Loss')\n",
        "    plt.ylabel('Loss')\n",
        "    plt.xlabel('Epoch')\n",
        "    plt.legend(['Train', 'Test'], loc='upper left')\n",
        "\n",
        "    plt.show()\n"
      ],
      "metadata": {
        "id": "GQSMo_2XrwuR"
      },
      "execution_count": null,
      "outputs": []
    },
    {
      "cell_type": "markdown",
      "source": [
        "# Shallow model with dense layer and also Training and Testing with different  batch sizes. Also calculting the loss opitamlly by uisng ADAM\n",
        "\n"
      ],
      "metadata": {
        "id": "QmOgWAgoxO2T"
      }
    },
    {
      "cell_type": "code",
      "source": [
        "model2 = Sequential()\n",
        "model2.add(Embedding(len(word_index) + 1, 100, weights=[embedding_matrix], input_length=256, trainable=True))\n",
        "model2.add(Dense(10, activation='relu'))\n",
        "model2.add(Dense(1, activation='sigmoid'))\n",
        "model2.compile(loss='binary_crossentropy', optimizer='adam', metrics=['accuracy'])\n",
        "\n",
        "his2=model2.fit(X_train, y_train, epochs=20, batch_size=25, validation_data=(X_test, y_test))\n",
        "train_loss2, train_accuracy2 = model2.evaluate(X_train, y_train)\n",
        "print(f'Training Accuracy: {train_accuracy2}')\n",
        "\n",
        "loss2, accuracy2 = model2.evaluate(X_test, y_test)\n",
        "print(f'Shallow Model Test Accuracy: {accuracy2}')\n",
        "plot_history(his2)"
      ],
      "metadata": {
        "id": "8bozGt1XbuE7"
      },
      "execution_count": null,
      "outputs": []
    },
    {
      "cell_type": "markdown",
      "source": [
        "# Uni LSTM model with dense layer and also Training and Testing with different batch sizes.Also calculting the loss opitamlly by uisng ADAM"
      ],
      "metadata": {
        "id": "39k_TyzTx27v"
      }
    },
    {
      "cell_type": "code",
      "source": [
        "# LSTM model\n",
        "model = Sequential()\n",
        "model.add(Embedding(len(word_index) + 1, 100, weights=[embedding_matrix], input_length=256, trainable=True))\n",
        "model.add(LSTM(10))\n",
        "model.add(Dense(1, activation='sigmoid'))\n",
        "model.compile(loss='binary_crossentropy', optimizer='adam', metrics=['accuracy', Precision(), Recall()])\n",
        "\n",
        "# Train the LSTM model\n",
        "his=model.fit(X_train, y_train, epochs=20, batch_size=26, validation_data=(X_test, y_test))\n",
        "train_loss, train_accuracy,p,r = model.evaluate(X_train, y_train)\n",
        "print(f'Training Accuracy: {train_accuracy}')\n",
        "\n",
        "# Evaluate the LSTM model\n",
        "loss, accuracy, precision, recall = model.evaluate(X_test, y_test)\n",
        "print(f'LSTM Model Test Accuracy: {accuracy}')\n",
        "print(f'LSTM Model Test Precision: {precision}')\n",
        "print(f'LSTM Model Test Recall: {recall}')\n",
        "plot_history(his)"
      ],
      "metadata": {
        "id": "1cpTpghmb8Lm",
        "colab": {
          "base_uri": "https://localhost:8080/",
          "height": 1000
        },
        "outputId": "9587dd92-6e6d-46a2-cfa2-5c9a32e818e4"
      },
      "execution_count": null,
      "outputs": [
        {
          "output_type": "stream",
          "name": "stdout",
          "text": [
            "Epoch 1/20\n",
            "1539/1539 [==============================] - 85s 54ms/step - loss: 0.4064 - accuracy: 0.8076 - precision_12: 0.8010 - recall_12: 0.8184 - val_loss: 0.2754 - val_accuracy: 0.8914 - val_precision_12: 0.9173 - val_recall_12: 0.8604\n",
            "Epoch 2/20\n",
            "1539/1539 [==============================] - 38s 25ms/step - loss: 0.1760 - accuracy: 0.9361 - precision_12: 0.9378 - recall_12: 0.9341 - val_loss: 0.2576 - val_accuracy: 0.8949 - val_precision_12: 0.8880 - val_recall_12: 0.9038\n",
            "Epoch 3/20\n",
            "1539/1539 [==============================] - 31s 20ms/step - loss: 0.0697 - accuracy: 0.9786 - precision_12: 0.9790 - recall_12: 0.9783 - val_loss: 0.3458 - val_accuracy: 0.8828 - val_precision_12: 0.9129 - val_recall_12: 0.8464\n",
            "Epoch 4/20\n",
            "1539/1539 [==============================] - 30s 20ms/step - loss: 0.0271 - accuracy: 0.9934 - precision_12: 0.9936 - recall_12: 0.9930 - val_loss: 0.5289 - val_accuracy: 0.8618 - val_precision_12: 0.9203 - val_recall_12: 0.7922\n",
            "Epoch 5/20\n",
            "1539/1539 [==============================] - 29s 19ms/step - loss: 0.0123 - accuracy: 0.9971 - precision_12: 0.9973 - recall_12: 0.9969 - val_loss: 0.4883 - val_accuracy: 0.8724 - val_precision_12: 0.8831 - val_recall_12: 0.8584\n",
            "Epoch 6/20\n",
            "1539/1539 [==============================] - 28s 18ms/step - loss: 0.0062 - accuracy: 0.9985 - precision_12: 0.9985 - recall_12: 0.9985 - val_loss: 0.6183 - val_accuracy: 0.8699 - val_precision_12: 0.8734 - val_recall_12: 0.8652\n",
            "Epoch 7/20\n",
            "1539/1539 [==============================] - 30s 19ms/step - loss: 0.0025 - accuracy: 0.9995 - precision_12: 0.9995 - recall_12: 0.9995 - val_loss: 0.6147 - val_accuracy: 0.8688 - val_precision_12: 0.8783 - val_recall_12: 0.8562\n",
            "Epoch 8/20\n",
            "1539/1539 [==============================] - 30s 19ms/step - loss: 0.0016 - accuracy: 0.9997 - precision_12: 0.9997 - recall_12: 0.9996 - val_loss: 0.7739 - val_accuracy: 0.8682 - val_precision_12: 0.8712 - val_recall_12: 0.8642\n",
            "Epoch 9/20\n",
            "1539/1539 [==============================] - 31s 20ms/step - loss: 0.0021 - accuracy: 0.9995 - precision_12: 0.9995 - recall_12: 0.9995 - val_loss: 0.7530 - val_accuracy: 0.8695 - val_precision_12: 0.8678 - val_recall_12: 0.8718\n",
            "Epoch 10/20\n",
            "1539/1539 [==============================] - 30s 20ms/step - loss: 0.0012 - accuracy: 0.9998 - precision_12: 0.9998 - recall_12: 0.9998 - val_loss: 0.6926 - val_accuracy: 0.8668 - val_precision_12: 0.8695 - val_recall_12: 0.8632\n",
            "Epoch 11/20\n",
            "1539/1539 [==============================] - 29s 19ms/step - loss: 6.2453e-04 - accuracy: 0.9999 - precision_12: 0.9999 - recall_12: 0.9999 - val_loss: 0.8772 - val_accuracy: 0.8654 - val_precision_12: 0.8683 - val_recall_12: 0.8614\n",
            "Epoch 12/20\n",
            "1539/1539 [==============================] - 31s 20ms/step - loss: 4.2650e-04 - accuracy: 0.9999 - precision_12: 0.9999 - recall_12: 0.9999 - val_loss: 0.9158 - val_accuracy: 0.8670 - val_precision_12: 0.8594 - val_recall_12: 0.8776\n",
            "Epoch 13/20\n",
            "1539/1539 [==============================] - 28s 18ms/step - loss: 3.0675e-05 - accuracy: 1.0000 - precision_12: 1.0000 - recall_12: 1.0000 - val_loss: 1.0166 - val_accuracy: 0.8651 - val_precision_12: 0.8575 - val_recall_12: 0.8758\n",
            "Epoch 14/20\n",
            "1539/1539 [==============================] - 28s 18ms/step - loss: 1.5107e-05 - accuracy: 1.0000 - precision_12: 1.0000 - recall_12: 1.0000 - val_loss: 1.1160 - val_accuracy: 0.8640 - val_precision_12: 0.8588 - val_recall_12: 0.8712\n",
            "Epoch 15/20\n",
            "1539/1539 [==============================] - 27s 17ms/step - loss: 7.9213e-06 - accuracy: 1.0000 - precision_12: 1.0000 - recall_12: 1.0000 - val_loss: 1.2196 - val_accuracy: 0.8641 - val_precision_12: 0.8586 - val_recall_12: 0.8718\n",
            "Epoch 16/20\n",
            "1539/1539 [==============================] - 28s 18ms/step - loss: 4.0728e-06 - accuracy: 1.0000 - precision_12: 1.0000 - recall_12: 1.0000 - val_loss: 1.3288 - val_accuracy: 0.8624 - val_precision_12: 0.8585 - val_recall_12: 0.8678\n",
            "Epoch 17/20\n",
            "1539/1539 [==============================] - 29s 19ms/step - loss: 1.8917e-06 - accuracy: 1.0000 - precision_12: 1.0000 - recall_12: 1.0000 - val_loss: 1.4488 - val_accuracy: 0.8603 - val_precision_12: 0.8557 - val_recall_12: 0.8668\n",
            "Epoch 18/20\n",
            "1539/1539 [==============================] - 29s 19ms/step - loss: 8.6557e-07 - accuracy: 1.0000 - precision_12: 1.0000 - recall_12: 1.0000 - val_loss: 1.5604 - val_accuracy: 0.8594 - val_precision_12: 0.8560 - val_recall_12: 0.8642\n",
            "Epoch 19/20\n",
            "1539/1539 [==============================] - 31s 20ms/step - loss: 4.1124e-07 - accuracy: 1.0000 - precision_12: 1.0000 - recall_12: 1.0000 - val_loss: 1.6790 - val_accuracy: 0.8588 - val_precision_12: 0.8540 - val_recall_12: 0.8656\n",
            "Epoch 20/20\n",
            "1539/1539 [==============================] - 28s 18ms/step - loss: 1.9097e-07 - accuracy: 1.0000 - precision_12: 1.0000 - recall_12: 1.0000 - val_loss: 1.7885 - val_accuracy: 0.8584 - val_precision_12: 0.8570 - val_recall_12: 0.8604\n",
            "1250/1250 [==============================] - 8s 7ms/step - loss: 1.2549e-07 - accuracy: 1.0000 - precision_12: 1.0000 - recall_12: 1.0000\n",
            "Training Accuracy: 1.0\n",
            "313/313 [==============================] - 3s 9ms/step - loss: 1.7885 - accuracy: 0.8584 - precision_12: 0.8570 - recall_12: 0.8604\n",
            "LSTM Model Test Accuracy: 0.8583999872207642\n",
            "LSTM Model Test Precision: 0.8569720983505249\n",
            "LSTM Model Test Recall: 0.8604000210762024\n"
          ]
        },
        {
          "output_type": "display_data",
          "data": {
            "text/plain": [
              "<Figure size 1200x400 with 2 Axes>"
            ],
            "image/png": "[encoded data removed]"
          },
          "metadata": {}
        }
      ]
    },
    {
      "cell_type": "code",
      "source": [
        "y_pred = model.predict(X_test)\n",
        "y_pred = (y_pred > 0.5).astype(\"int32\")\n",
        "conf_matrix = confusion_matrix(y_test, y_pred)\n",
        "plt.figure(figsize=(8, 6))\n",
        "sns.heatmap(conf_matrix, annot=True, fmt='d', cmap='Blues', xticklabels=['Class 0', 'Class 1'], yticklabels=['Class 0', 'Class 1'])\n",
        "plt.title('Confusion Matrix')\n",
        "plt.ylabel('True Label')\n",
        "plt.xlabel('Predicted Label')\n",
        "plt.show()\n",
        "# Calculate the F1 score\n",
        "f = f1_score(y_test, y_pred)\n",
        "print(f\"F1 Score: {f}\")"
      ],
      "metadata": {
        "id": "ZXIi9Rw-eJqw",
        "colab": {
          "base_uri": "https://localhost:8080/",
          "height": 599
        },
        "outputId": "1faa7cc3-b7e2-48e6-f25f-c6e352161740"
      },
      "execution_count": null,
      "outputs": [
        {
          "output_type": "stream",
          "name": "stdout",
          "text": [
            "313/313 [==============================] - 2s 5ms/step\n"
          ]
        },
        {
          "output_type": "display_data",
          "data": {
            "text/plain": [
              "<Figure size 800x600 with 2 Axes>"
            ],
            "image/png": "[encoded data removed]"
          },
          "metadata": {}
        },
        {
          "output_type": "stream",
          "name": "stdout",
          "text": [
            "F1 Score: 0.858682634730539\n"
          ]
        }
      ]
    },
    {
      "cell_type": "markdown",
      "source": [
        "# Bidirectional LSTM model with dense layer and also Training and Testing with different batch sizes.Also calculting the loss opitamlly by uisng ADAM"
      ],
      "metadata": {
        "id": "Lgd7c7Lax9Zz"
      }
    },
    {
      "cell_type": "code",
      "source": [
        "# Bidirectional LSTM model\n",
        "model1 = Sequential()\n",
        "model1.add(Embedding(len(word_index) + 1, 100, weights=[embedding_matrix], input_length=256, trainable=False))\n",
        "model1.add(Bidirectional(LSTM(10)))\n",
        "model1.add(Dense(1, activation='sigmoid'))\n",
        "model1.compile(loss='binary_crossentropy', optimizer='adam', metrics=['accuracy', Precision(), Recall()])\n",
        "\n",
        "his1=model1.fit(X_train, y_train, epochs=20, batch_size=25, validation_data=(X_test, y_test))\n",
        "train_loss1, train_accuracy1,p1,r1 = model1.evaluate(X_train, y_train)\n",
        "print(f'Training Accuracy: {train_accuracy1}')\n",
        "\n",
        "# Evaluate the Bidirectional LSTM model\n",
        "loss1, accuracy1, precision1, recall1 = model1.evaluate(X_test, y_test)\n",
        "print(f'Bidirectional LSTM Model Test Accuracy: {accuracy1}')\n",
        "print(f'Bidirectional LSTM Model Test Precision: {precision1}')\n",
        "print(f'Bidirectional LSTM Model Test Recall: {recall1}')\n",
        "plot_history(his1)\n"
      ],
      "metadata": {
        "id": "LSxcnBaNb9Bm",
        "colab": {
          "base_uri": "https://localhost:8080/"
        },
        "outputId": "082c0f58-87db-4bde-9a2a-f27f8143e35c"
      },
      "execution_count": null,
      "outputs": [
        {
          "output_type": "stream",
          "name": "stdout",
          "text": [
            "Epoch 1/20\n",
            "1600/1600 [==============================] - 44s 25ms/step - loss: 0.5363 - accuracy: 0.7228 - precision_13: 0.7237 - recall_13: 0.7207 - val_loss: 0.4401 - val_accuracy: 0.8073 - val_precision_13: 0.7599 - val_recall_13: 0.8984\n",
            "Epoch 2/20\n",
            "1600/1600 [==============================] - 37s 23ms/step - loss: 0.3969 - accuracy: 0.8249 - precision_13: 0.8304 - recall_13: 0.8165 - val_loss: 0.3692 - val_accuracy: 0.8419 - val_precision_13: 0.8418 - val_recall_13: 0.8420\n",
            "Epoch 3/20\n",
            "1600/1600 [==============================] - 38s 23ms/step - loss: 0.3527 - accuracy: 0.8475 - precision_13: 0.8488 - recall_13: 0.8457 - val_loss: 0.3369 - val_accuracy: 0.8576 - val_precision_13: 0.8637 - val_recall_13: 0.8492\n",
            "Epoch 4/20\n",
            "1600/1600 [==============================] - 36s 23ms/step - loss: 0.3274 - accuracy: 0.8579 - precision_13: 0.8596 - recall_13: 0.8557 - val_loss: 0.3269 - val_accuracy: 0.8631 - val_precision_13: 0.8376 - val_recall_13: 0.9008\n",
            "Epoch 5/20\n",
            "1600/1600 [==============================] - 39s 24ms/step - loss: 0.3084 - accuracy: 0.8690 - precision_13: 0.8702 - recall_13: 0.8674 - val_loss: 0.3083 - val_accuracy: 0.8675 - val_precision_13: 0.8509 - val_recall_13: 0.8912\n",
            "Epoch 6/20\n",
            "1600/1600 [==============================] - 40s 25ms/step - loss: 0.2939 - accuracy: 0.8764 - precision_13: 0.8751 - recall_13: 0.8781 - val_loss: 0.2983 - val_accuracy: 0.8754 - val_precision_13: 0.8649 - val_recall_13: 0.8898\n",
            "Epoch 7/20\n",
            "1600/1600 [==============================] - 40s 25ms/step - loss: 0.2794 - accuracy: 0.8837 - precision_13: 0.8826 - recall_13: 0.8852 - val_loss: 0.3453 - val_accuracy: 0.8505 - val_precision_13: 0.9313 - val_recall_13: 0.7568\n",
            "Epoch 8/20\n",
            "1600/1600 [==============================] - 38s 24ms/step - loss: 0.2684 - accuracy: 0.8890 - precision_13: 0.8880 - recall_13: 0.8903 - val_loss: 0.2873 - val_accuracy: 0.8800 - val_precision_13: 0.8707 - val_recall_13: 0.8926\n",
            "Epoch 9/20\n",
            "1600/1600 [==============================] - 37s 23ms/step - loss: 0.2580 - accuracy: 0.8938 - precision_13: 0.8911 - recall_13: 0.8971 - val_loss: 0.2906 - val_accuracy: 0.8774 - val_precision_13: 0.8517 - val_recall_13: 0.9140\n",
            "Epoch 10/20\n",
            " 883/1600 [===============>..............] - ETA: 14s - loss: 0.2504 - accuracy: 0.8956 - precision_13: 0.8946 - recall_13: 0.8977"
          ]
        }
      ]
    },
    {
      "cell_type": "markdown",
      "source": [
        "#BiLSTM Confusion Matrix and F1 score"
      ],
      "metadata": {
        "id": "VYg0Sm4ncIsj"
      }
    },
    {
      "cell_type": "code",
      "source": [
        "y_pred1 = model1.predict(X_test)\n",
        "y_pred1 = (y_pred1 > 0.5).astype(\"int32\")\n",
        "conf_matrix1 = confusion_matrix(y_test, y_pred1)\n",
        "plt.figure(figsize=(8, 6))\n",
        "sns.heatmap(conf_matrix1, annot=True, fmt='d', cmap='Blues', xticklabels=['Class 0', 'Class 1'], yticklabels=['Class 0', 'Class 1'])\n",
        "plt.title('Confusion Matrix')\n",
        "plt.ylabel('True Label')\n",
        "plt.xlabel('Predicted Label')\n",
        "plt.show()\n",
        "# Calculate the F1 score\n",
        "f1 = f1_score(y_test, y_pred1)\n",
        "print(f\"F1 Score: {f1}\")"
      ],
      "metadata": {
        "id": "DIJ0KTAiTg_5"
      },
      "execution_count": null,
      "outputs": []
    },
    {
      "cell_type": "markdown",
      "source": [
        "#GRU model"
      ],
      "metadata": {
        "id": "1KUQ9RZnokEZ"
      }
    },
    {
      "cell_type": "code",
      "source": [
        "from keras.models import Sequential\n",
        "from keras.layers import Embedding, Dense, GRU\n",
        "from keras.metrics import Precision, Recall\n",
        "\n",
        "# Define the GRU model\n",
        "model_gru = Sequential()\n",
        "model_gru.add(Embedding(len(word_index) + 1, 100, weights=[embedding_matrix], input_length=256, trainable=True))\n",
        "model_gru.add(GRU(10))  # GRU layer with 10 units\n",
        "model_gru.add(Dense(1, activation='sigmoid'))\n",
        "\n",
        "# Compile the model with precision and recall metrics\n",
        "model_gru.compile(loss='binary_crossentropy', optimizer='adam', metrics=['accuracy', Precision(), Recall()])\n",
        "\n",
        "# Train the GRU model\n",
        "history_gru = model_gru.fit(X_train, y_train, epochs=20, batch_size=26, validation_data=(X_test, y_test))\n",
        "\n",
        "# Evaluate the GRU model on training data\n",
        "train_loss_gru, train_accuracy_gru, train_precision_gru, train_recall_gru = model_gru.evaluate(X_train, y_train)\n",
        "print(f'GRU Model Training Accuracy: {train_accuracy_gru}')\n",
        "print(f'GRU Model Training Precision: {train_precision_gru}')\n",
        "print(f'GRU Model Training Recall: {train_recall_gru}')\n",
        "\n",
        "# Evaluate the GRU model on test data\n",
        "loss_gru, accuracy_gru, test_precision_gru, test_recall_gru = model_gru.evaluate(X_test, y_test)\n",
        "print(f'GRU Model Test Accuracy: {accuracy_gru}')\n",
        "print(f'GRU Model Test Precision: {test_precision_gru}')\n",
        "print(f'GRU Model Test Recall: {test_recall_gru}')\n",
        "\n",
        "# Assuming the plot_history function is defined correctly\n",
        "plot_history(history_gru)\n"
      ],
      "metadata": {
        "id": "oggRrFl_dmuz"
      },
      "execution_count": null,
      "outputs": []
    },
    {
      "cell_type": "code",
      "source": [],
      "metadata": {
        "id": "1fUIB8ALMKrX"
      },
      "execution_count": null,
      "outputs": []
    },
    {
      "cell_type": "code",
      "source": [],
      "metadata": {
        "id": "SQ9jFI3rcPDK"
      },
      "execution_count": null,
      "outputs": []
    },
    {
      "cell_type": "code",
      "source": [],
      "metadata": {
        "id": "h6aB2ctJcPBS"
      },
      "execution_count": null,
      "outputs": []
    },
    {
      "cell_type": "code",
      "source": [],
      "metadata": {
        "id": "CBhb9i81cO56"
      },
      "execution_count": null,
      "outputs": []
    },
    {
      "cell_type": "markdown",
      "source": [
        "# Bidirectional GRU"
      ],
      "metadata": {
        "id": "6LtMCnK_0i-a"
      }
    },
    {
      "cell_type": "code",
      "source": [
        "\n",
        "# from keras.layers import Embedding, Dense, GRU, Bidirectional\n",
        "# from keras.metrics import Precision, Recall\n",
        "# from sklearn.metrics import confusion_matrix, f1_score\n",
        "# import seaborn as sns\n",
        "\n",
        "# # Define the Bidirectional GRU model\n",
        "# model_bidirectional_gru = Sequential()\n",
        "# model_bidirectional_gru.add(Embedding(len(word_index) + 1, 100, weights=[embedding_matrix], input_length=256, trainable=True))\n",
        "# model_bidirectional_gru.add(Bidirectional(GRU(10)))  # Bidirectional GRU layer\n",
        "# model_bidirectional_gru.add(Dense(1, activation='sigmoid'))\n",
        "\n",
        "# # Compile the model with precision and recall metrics\n",
        "# model_bidirectional_gru.compile(loss='binary_crossentropy', optimizer='adam', metrics=['accuracy', Precision(), Recall()])\n",
        "\n",
        "# # Train the model\n",
        "# history_bidirectional_gru = model_bidirectional_gru.fit(X_train, y_train, epochs=2, batch_size=25, validation_data=(X_test, y_test))\n",
        "\n",
        "# # Evaluate the model on test data\n",
        "# loss, accuracy, precision, recall = model_bidirectional_gru.evaluate(X_test, y_test)\n",
        "# print(f'Bidirectional GRU Model Test Accuracy: {accuracy}')\n",
        "# print(f'Bidirectional GRU Model Test Precision: {precision}')\n",
        "# print(f'Bidirectional GRU Model Test Recall: {recall}')\n",
        "\n",
        "# # Predicting the test set results\n",
        "# y_pred = model_bidirectional_gru.predict(X_test)\n",
        "# y_pred = (y_pred > 0.5).astype(\"int32\")  # Convert probabilities to binary labels\n",
        "\n",
        "# # Calculate the confusion matrix\n",
        "# conf_matrix = confusion_matrix(y_test, y_pred)\n",
        "# plt.figure(figsize=(8, 6))\n",
        "# sns.heatmap(conf_matrix, annot=True, fmt='d', cmap='Blues', xticklabels=['Class 0', 'Class 1'], yticklabels=['Class 0', 'Class 1'])\n",
        "# plt.title('Confusion Matrix')\n",
        "# plt.ylabel('True Label')\n",
        "# plt.xlabel('Predicted Label')\n",
        "# plt.show()\n",
        "\n",
        "\n",
        "# # Calculate the F1 score\n",
        "# f1 = f1_score(y_test, y_pred)\n",
        "# print(f\"F1 Score: {f1}\")\n"
      ],
      "metadata": {
        "id": "zg6iM4rfOX9i"
      },
      "execution_count": null,
      "outputs": []
    }
  ]
}